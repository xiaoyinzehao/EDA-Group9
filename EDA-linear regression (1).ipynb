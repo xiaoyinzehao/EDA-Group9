{
 "cells": [
  {
   "cell_type": "code",
   "execution_count": 2,
   "id": "293e6965",
   "metadata": {},
   "outputs": [],
   "source": [
    "import pandas as pd\n",
    "import numpy as np\n",
    "from sklearn.model_selection import train_test_split\n",
    "from sklearn.linear_model import LinearRegression\n",
    "from sklearn.metrics import mean_squared_error\n",
    "import matplotlib.pyplot as plt\n",
    "from sklearn.metrics import mean_squared_error, r2_score"
   ]
  },
  {
   "cell_type": "code",
   "execution_count": 3,
   "id": "7f571a5c",
   "metadata": {},
   "outputs": [],
   "source": [
    "file_path =r'C:\\Users\\DELL\\Desktop\\EDA作业\\data.xlsx'  # 数据导入\n",
    "df = pd.read_excel(file_path)"
   ]
  },
  {
   "cell_type": "code",
   "execution_count": 4,
   "id": "5402a76d",
   "metadata": {},
   "outputs": [
    {
     "data": {
      "text/html": [
       "<div>\n",
       "<style scoped>\n",
       "    .dataframe tbody tr th:only-of-type {\n",
       "        vertical-align: middle;\n",
       "    }\n",
       "\n",
       "    .dataframe tbody tr th {\n",
       "        vertical-align: top;\n",
       "    }\n",
       "\n",
       "    .dataframe thead th {\n",
       "        text-align: right;\n",
       "    }\n",
       "</style>\n",
       "<table border=\"1\" class=\"dataframe\">\n",
       "  <thead>\n",
       "    <tr style=\"text-align: right;\">\n",
       "      <th></th>\n",
       "      <th>DATE</th>\n",
       "      <th>ULSP:  Pump price (p/litre)</th>\n",
       "      <th>Duty rate</th>\n",
       "      <th>VAT</th>\n",
       "      <th>OPEC</th>\n",
       "      <th>OPEC1week</th>\n",
       "      <th>OPEC1month</th>\n",
       "      <th>CrudeOil</th>\n",
       "      <th>CrudeOil1week</th>\n",
       "      <th>CrudeOil1month</th>\n",
       "      <th>...</th>\n",
       "      <th>Average  rainfall</th>\n",
       "      <th>Average temperatures</th>\n",
       "      <th>Carbon budget</th>\n",
       "      <th>Wind Sum</th>\n",
       "      <th>Solar Sum</th>\n",
       "      <th>gasprice</th>\n",
       "      <th>GDP Growth</th>\n",
       "      <th>Inflation Rate</th>\n",
       "      <th>Unemployment Rate</th>\n",
       "      <th>Total annual registrations</th>\n",
       "    </tr>\n",
       "  </thead>\n",
       "  <tbody>\n",
       "    <tr>\n",
       "      <th>0</th>\n",
       "      <td>2013-01-07</td>\n",
       "      <td>131.860715</td>\n",
       "      <td>45.82</td>\n",
       "      <td>17.5</td>\n",
       "      <td>108.15</td>\n",
       "      <td>108.00</td>\n",
       "      <td>108.00</td>\n",
       "      <td>93.56</td>\n",
       "      <td>93.00</td>\n",
       "      <td>93.00</td>\n",
       "      <td>...</td>\n",
       "      <td>155.505595</td>\n",
       "      <td>3.925576</td>\n",
       "      <td>2782</td>\n",
       "      <td>800153.25</td>\n",
       "      <td>79.25</td>\n",
       "      <td>3.327</td>\n",
       "      <td>0.0182</td>\n",
       "      <td>0.0229</td>\n",
       "      <td>0.0752</td>\n",
       "      <td>43552.634615</td>\n",
       "    </tr>\n",
       "    <tr>\n",
       "      <th>1</th>\n",
       "      <td>2013-01-14</td>\n",
       "      <td>132.000415</td>\n",
       "      <td>45.82</td>\n",
       "      <td>17.5</td>\n",
       "      <td>108.06</td>\n",
       "      <td>108.15</td>\n",
       "      <td>108.00</td>\n",
       "      <td>95.56</td>\n",
       "      <td>93.56</td>\n",
       "      <td>93.00</td>\n",
       "      <td>...</td>\n",
       "      <td>155.505595</td>\n",
       "      <td>3.925576</td>\n",
       "      <td>2782</td>\n",
       "      <td>800153.25</td>\n",
       "      <td>79.25</td>\n",
       "      <td>3.566</td>\n",
       "      <td>0.0182</td>\n",
       "      <td>0.0229</td>\n",
       "      <td>0.0752</td>\n",
       "      <td>43552.634615</td>\n",
       "    </tr>\n",
       "    <tr>\n",
       "      <th>2</th>\n",
       "      <td>2013-01-21</td>\n",
       "      <td>132.213910</td>\n",
       "      <td>45.82</td>\n",
       "      <td>17.5</td>\n",
       "      <td>109.32</td>\n",
       "      <td>108.06</td>\n",
       "      <td>108.00</td>\n",
       "      <td>95.88</td>\n",
       "      <td>95.56</td>\n",
       "      <td>93.00</td>\n",
       "      <td>...</td>\n",
       "      <td>155.505595</td>\n",
       "      <td>3.925576</td>\n",
       "      <td>2782</td>\n",
       "      <td>800153.25</td>\n",
       "      <td>79.25</td>\n",
       "      <td>3.444</td>\n",
       "      <td>0.0182</td>\n",
       "      <td>0.0229</td>\n",
       "      <td>0.0752</td>\n",
       "      <td>43552.634615</td>\n",
       "    </tr>\n",
       "    <tr>\n",
       "      <th>3</th>\n",
       "      <td>2013-01-28</td>\n",
       "      <td>132.949500</td>\n",
       "      <td>45.82</td>\n",
       "      <td>17.5</td>\n",
       "      <td>110.15</td>\n",
       "      <td>109.32</td>\n",
       "      <td>108.00</td>\n",
       "      <td>97.77</td>\n",
       "      <td>95.88</td>\n",
       "      <td>93.00</td>\n",
       "      <td>...</td>\n",
       "      <td>155.505595</td>\n",
       "      <td>3.925576</td>\n",
       "      <td>2782</td>\n",
       "      <td>800153.25</td>\n",
       "      <td>79.25</td>\n",
       "      <td>3.301</td>\n",
       "      <td>0.0182</td>\n",
       "      <td>0.0229</td>\n",
       "      <td>0.0752</td>\n",
       "      <td>43552.634615</td>\n",
       "    </tr>\n",
       "    <tr>\n",
       "      <th>4</th>\n",
       "      <td>2013-02-04</td>\n",
       "      <td>134.380516</td>\n",
       "      <td>45.82</td>\n",
       "      <td>17.5</td>\n",
       "      <td>112.99</td>\n",
       "      <td>110.15</td>\n",
       "      <td>108.15</td>\n",
       "      <td>95.72</td>\n",
       "      <td>97.77</td>\n",
       "      <td>93.56</td>\n",
       "      <td>...</td>\n",
       "      <td>64.705234</td>\n",
       "      <td>3.381378</td>\n",
       "      <td>2782</td>\n",
       "      <td>667825.75</td>\n",
       "      <td>245.50</td>\n",
       "      <td>3.272</td>\n",
       "      <td>0.0182</td>\n",
       "      <td>0.0229</td>\n",
       "      <td>0.0752</td>\n",
       "      <td>43552.634615</td>\n",
       "    </tr>\n",
       "  </tbody>\n",
       "</table>\n",
       "<p>5 rows × 27 columns</p>\n",
       "</div>"
      ],
      "text/plain": [
       "        DATE   ULSP:  Pump price (p/litre)  Duty rate   VAT    OPEC   \\\n",
       "0 2013-01-07                    131.860715       45.82  17.5  108.15   \n",
       "1 2013-01-14                    132.000415       45.82  17.5  108.06   \n",
       "2 2013-01-21                    132.213910       45.82  17.5  109.32   \n",
       "3 2013-01-28                    132.949500       45.82  17.5  110.15   \n",
       "4 2013-02-04                    134.380516       45.82  17.5  112.99   \n",
       "\n",
       "   OPEC1week  OPEC1month  CrudeOil  CrudeOil1week  CrudeOil1month  ...  \\\n",
       "0     108.00      108.00     93.56          93.00           93.00  ...   \n",
       "1     108.15      108.00     95.56          93.56           93.00  ...   \n",
       "2     108.06      108.00     95.88          95.56           93.00  ...   \n",
       "3     109.32      108.00     97.77          95.88           93.00  ...   \n",
       "4     110.15      108.15     95.72          97.77           93.56  ...   \n",
       "\n",
       "   Average  rainfall   Average temperatures  Carbon budget   Wind Sum  \\\n",
       "0          155.505595              3.925576           2782  800153.25   \n",
       "1          155.505595              3.925576           2782  800153.25   \n",
       "2          155.505595              3.925576           2782  800153.25   \n",
       "3          155.505595              3.925576           2782  800153.25   \n",
       "4           64.705234              3.381378           2782  667825.75   \n",
       "\n",
       "   Solar Sum  gasprice  GDP Growth  Inflation Rate  Unemployment Rate  \\\n",
       "0      79.25     3.327      0.0182          0.0229             0.0752   \n",
       "1      79.25     3.566      0.0182          0.0229             0.0752   \n",
       "2      79.25     3.444      0.0182          0.0229             0.0752   \n",
       "3      79.25     3.301      0.0182          0.0229             0.0752   \n",
       "4     245.50     3.272      0.0182          0.0229             0.0752   \n",
       "\n",
       "   Total annual registrations  \n",
       "0                43552.634615  \n",
       "1                43552.634615  \n",
       "2                43552.634615  \n",
       "3                43552.634615  \n",
       "4                43552.634615  \n",
       "\n",
       "[5 rows x 27 columns]"
      ]
     },
     "execution_count": 4,
     "metadata": {},
     "output_type": "execute_result"
    }
   ],
   "source": [
    "df.head()"
   ]
  },
  {
   "cell_type": "code",
   "execution_count": 5,
   "id": "ff6dd04d",
   "metadata": {},
   "outputs": [],
   "source": [
    "X = df[['Duty rate ','VAT ','OPEC ','OPEC1week','OPEC1month','CrudeOil','CrudeOil1week','CrudeOil1month','BCrudeOil','BCrudeOil1week','BCrudeOil1month','GDPUSD','GDPEUR','GDPCNY','GDPJPY','Average  rainfall ','Average temperatures','Carbon budget','Wind Sum','Solar Sum','gasprice','GDP Growth','Inflation Rate','Unemployment Rate','Total annual registrations']]\n",
    "y = df[' ULSP:  Pump price (p/litre)']"
   ]
  },
  {
   "cell_type": "code",
   "execution_count": 6,
   "id": "3d358b45",
   "metadata": {},
   "outputs": [],
   "source": [
    "df['Month'] = df['DATE'].dt.month\n"
   ]
  },
  {
   "cell_type": "code",
   "execution_count": 7,
   "id": "22b1581f",
   "metadata": {},
   "outputs": [],
   "source": [
    "train_data = df[df['Month'] <= 10]\n",
    "test_data = df[df['Month'] > 10]\n",
    "\n",
    "X_train = train_data[['Duty rate ','VAT ','OPEC ','OPEC1week','OPEC1month','CrudeOil','CrudeOil1week','CrudeOil1month','BCrudeOil','BCrudeOil1week','BCrudeOil1month','GDPUSD','GDPEUR','GDPCNY','GDPJPY','Average  rainfall ','Average temperatures','Carbon budget','Wind Sum','Solar Sum','gasprice','GDP Growth','Inflation Rate','Unemployment Rate','Total annual registrations']]\n",
    "y_train = train_data[' ULSP:  Pump price (p/litre)']\n",
    "X_test = test_data[['Duty rate ','VAT ','OPEC ','OPEC1week','OPEC1month','CrudeOil','CrudeOil1week','CrudeOil1month','BCrudeOil','BCrudeOil1week','BCrudeOil1month','GDPUSD','GDPEUR','GDPCNY','GDPJPY','Average  rainfall ','Average temperatures','Carbon budget','Wind Sum','Solar Sum','gasprice','GDP Growth','Inflation Rate','Unemployment Rate','Total annual registrations']]\n",
    "y_test = test_data[' ULSP:  Pump price (p/litre)']"
   ]
  },
  {
   "cell_type": "code",
   "execution_count": 8,
   "id": "13213f96",
   "metadata": {},
   "outputs": [],
   "source": [
    "model = LinearRegression()"
   ]
  },
  {
   "cell_type": "code",
   "execution_count": 9,
   "id": "4bcb6310",
   "metadata": {},
   "outputs": [
    {
     "data": {
      "text/plain": [
       "LinearRegression()"
      ]
     },
     "execution_count": 9,
     "metadata": {},
     "output_type": "execute_result"
    }
   ],
   "source": [
    "model.fit(X_train, y_train)"
   ]
  },
  {
   "cell_type": "code",
   "execution_count": 10,
   "id": "45d8b3e8",
   "metadata": {},
   "outputs": [],
   "source": [
    "y_pred = model.predict(X_test)"
   ]
  },
  {
   "cell_type": "code",
   "execution_count": 14,
   "id": "2b9abf89",
   "metadata": {},
   "outputs": [],
   "source": [
    "def calculate_mape(y_true, y_pred):\n",
    "    return np.mean(np.abs((y_true - y_pred) / y_true)) * 100"
   ]
  },
  {
   "cell_type": "code",
   "execution_count": 17,
   "id": "337663dc",
   "metadata": {},
   "outputs": [
    {
     "name": "stdout",
     "output_type": "stream",
     "text": [
      "Mean Squared Error: 11.608166969573652\n",
      "Linear Regression - R²: 0.9495320128610832\n",
      "Linear Regression - MAPE: 1.83%\n"
     ]
    }
   ],
   "source": [
    "mse = mean_squared_error(y_test, y_pred)\n",
    "print(f'Mean Squared Error: {mse}')\n",
    "r2_linear = r2_score(y_test, y_pred)\n",
    "print(f'Linear Regression - R²: {r2_linear}')\n",
    "mape_linear = calculate_mape(y_test, y_pred)\n",
    "print(f'Linear Regression - MAPE: {mape_linear:.2f}%')"
   ]
  },
  {
   "cell_type": "code",
   "execution_count": 18,
   "id": "2cf7370c",
   "metadata": {},
   "outputs": [],
   "source": [
    "assert X_test.shape[0] == len(y_test)"
   ]
  },
  {
   "cell_type": "code",
   "execution_count": 19,
   "id": "8869395e",
   "metadata": {},
   "outputs": [
    {
     "data": {
      "image/png": "[encoded data removed]",
      "text/plain": [
       "<Figure size 640x480 with 1 Axes>"
      ]
     },
     "metadata": {},
     "output_type": "display_data"
    }
   ],
   "source": [
    "plt.scatter(y_test, y_pred, color='black')\n",
    "plt.title('Actual vs. Predicted - ULSP Pump Price')\n",
    "plt.xlabel('Actual ULSP Pump Price (p/litre)')\n",
    "plt.ylabel('Predicted ULSP Pump Price (p/litre)')\n",
    "plt.show()"
   ]
  },
  {
   "cell_type": "code",
   "execution_count": 20,
   "id": "1aff9e34",
   "metadata": {
    "scrolled": true
   },
   "outputs": [
    {
     "data": {
      "image/png": "[encoded data removed]",
      "text/plain": [
       "<Figure size 640x480 with 1 Axes>"
      ]
     },
     "metadata": {},
     "output_type": "display_data"
    }
   ],
   "source": [
    "residuals = y_test - y_pred\n",
    "plt.scatter(y_pred, residuals, color='red')\n",
    "plt.title('Residual Plot')\n",
    "plt.xlabel('Predicted ULSP Pump Price (p/litre)')\n",
    "plt.ylabel('Residuals')\n",
    "plt.axhline(y=0, color='black', linestyle='--', linewidth=2)\n",
    "plt.show()"
   ]
  }
 ],
 "metadata": {
  "kernelspec": {
   "display_name": "Python 3 (ipykernel)",
   "language": "python",
   "name": "python3"
  },
  "language_info": {
   "codemirror_mode": {
    "name": "ipython",
    "version": 3
   },
   "file_extension": ".py",
   "mimetype": "text/x-python",
   "name": "python",
   "nbconvert_exporter": "python",
   "pygments_lexer": "ipython3",
   "version": "3.9.13"
  }
 },
 "nbformat": 4,
 "nbformat_minor": 5
}
